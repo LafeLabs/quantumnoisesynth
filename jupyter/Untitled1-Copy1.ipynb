{
 "cells": [
  {
   "cell_type": "markdown",
   "id": "09105395",
   "metadata": {},
   "source": [
    "# Quantum Noise Synth\n",
    "\n",
    "Consider a tunnel junction with with a voltage bias V(t).\n",
    "\n",
    "\n",
    "We define a normalized bias voltage in units of kelvin as follows:\n",
    "$$\n",
    "v(t) = \n",
    "$$"
   ]
  }
 ],
 "metadata": {
  "kernelspec": {
   "display_name": "Python 3",
   "language": "python",
   "name": "python3"
  },
  "language_info": {
   "codemirror_mode": {
    "name": "ipython",
    "version": 3
   },
   "file_extension": ".py",
   "mimetype": "text/x-python",
   "name": "python",
   "nbconvert_exporter": "python",
   "pygments_lexer": "ipython3",
   "version": "3.8.8"
  }
 },
 "nbformat": 4,
 "nbformat_minor": 5
}
